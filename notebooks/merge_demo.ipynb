{
  "cells": [
    {
      "cell_type": "markdown",
      "metadata": {},
      "source": [
        "# Cloud merge demo: NOAA ISD + GHCN\n",
        "We'll read two datasets directly from the cloud and perform a simple merge using rounded lat/lon keys.\n",
        "\n",
        "- ISD metadata (CSV): `https://noaa-isd-pds.s3.amazonaws.com/isd-history.csv`\n",
        "- GHCN stations (fixed-width): `https://noaa-ghcn-pds.s3.amazonaws.com/ghcnd-stations.txt`\n",
        "\n",
        "> For production work, use a spatial join or consistent IDs.\n"
      ]
    },
    {
      "cell_type": "code",
      "metadata": {},
      "execution_count": null,
      "outputs": [],
      "source": [
        "import pandas as pd\n",
        "from dfmerge import read_table, read_ghcn_stations, merge_frames\n",
        "isd_url = 'https://noaa-isd-pds.s3.amazonaws.com/isd-history.csv'\n",
        "ghcn_url = 'https://noaa-ghcn-pds.s3.amazonaws.com/ghcnd-stations.txt'\n",
        "isd = read_table(isd_url)\n",
        "ghcn = read_ghcn_stations(ghcn_url)\n",
        "isd = isd.rename(columns={'USAF':'usaf','WBAN':'wban','STATION NAME':'station_name','CTRY':'country','LAT':'lat','LON':'lon'})\n",
        "isd = isd[['usaf','wban','station_name','country','lat','lon']].dropna(subset=['lat','lon'])\n",
        "ghcn = ghcn[['station_id','name','state','lat','lon']].dropna(subset=['lat','lon'])\n",
        "for df in (isd, ghcn):\n",
        "    df['lat_round'] = df['lat'].round(2)\n",
        "    df['lon_round'] = df['lon'].round(2)\n",
        "merged = merge_frames(isd, ghcn, left_on=['lat_round','lon_round'], right_on=['lat_round','lon_round'], how='inner', indicator=True)\n",
        "merged.attrs['merge_info'], merged.head()"
      ]
    },
    {
      "cell_type": "code",
      "metadata": {},
      "execution_count": null,
      "outputs": [],
      "source": [
        "outer = merge_frames(isd, ghcn, left_on=['lat_round','lon_round'], right_on=['lat_round','lon_round'], how='outer', indicator=True)\n",
        "outer.attrs['merge_info'], outer['_merge'].value_counts().to_frame('count')"
      ]
    }
  ],
  "metadata": {
    "kernelspec": {
      "display_name": "Python 3",
      "language": "python",
      "name": "python3"
    },
    "language_info": {
      "name": "python",
      "version": "3.x"
    }
  },
  "nbformat": 4,
  "nbformat_minor": 5
}